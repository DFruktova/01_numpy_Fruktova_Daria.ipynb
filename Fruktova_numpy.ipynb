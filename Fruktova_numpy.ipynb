{
  "nbformat": 4,
  "nbformat_minor": 0,
  "metadata": {
    "colab": {
      "provenance": [],
      "authorship_tag": "ABX9TyO/tP5omCIA67LqFlgRxGVD",
      "include_colab_link": true
    },
    "kernelspec": {
      "name": "python3",
      "display_name": "Python 3"
    },
    "language_info": {
      "name": "python"
    }
  },
  "cells": [
    {
      "cell_type": "markdown",
      "metadata": {
        "id": "view-in-github",
        "colab_type": "text"
      },
      "source": [
        "<a href=\"https://colab.research.google.com/github/DFruktova/01_numpy_Fruktova_Daria.ipynb/blob/main/Fruktova_numpy.ipynb\" target=\"_parent\"><img src=\"https://colab.research.google.com/assets/colab-badge.svg\" alt=\"Open In Colab\"/></a>"
      ]
    },
    {
      "cell_type": "markdown",
      "source": [
        "# Лабораторная работа №1"
      ],
      "metadata": {
        "id": "r7oUIuxV2sYi"
      }
    },
    {
      "cell_type": "code",
      "source": [
        "# импорт библиотеки и файла\n",
        "import numpy as np\n",
        "import csv\n",
        "from google.colab import files\n",
        "uploaded = files.upload()\n"
      ],
      "metadata": {
        "colab": {
          "base_uri": "https://localhost:8080/",
          "height": 73
        },
        "id": "GOBML6shhWdS",
        "outputId": "31e54ea9-c810-4153-85a3-a3ffbd593bcb"
      },
      "execution_count": 1,
      "outputs": [
        {
          "output_type": "display_data",
          "data": {
            "text/plain": [
              "<IPython.core.display.HTML object>"
            ],
            "text/html": [
              "\n",
              "     <input type=\"file\" id=\"files-48280f5e-efdd-47b3-86c7-08a8aa15c6dc\" name=\"files[]\" multiple disabled\n",
              "        style=\"border:none\" />\n",
              "     <output id=\"result-48280f5e-efdd-47b3-86c7-08a8aa15c6dc\">\n",
              "      Upload widget is only available when the cell has been executed in the\n",
              "      current browser session. Please rerun this cell to enable.\n",
              "      </output>\n",
              "      <script>// Copyright 2017 Google LLC\n",
              "//\n",
              "// Licensed under the Apache License, Version 2.0 (the \"License\");\n",
              "// you may not use this file except in compliance with the License.\n",
              "// You may obtain a copy of the License at\n",
              "//\n",
              "//      http://www.apache.org/licenses/LICENSE-2.0\n",
              "//\n",
              "// Unless required by applicable law or agreed to in writing, software\n",
              "// distributed under the License is distributed on an \"AS IS\" BASIS,\n",
              "// WITHOUT WARRANTIES OR CONDITIONS OF ANY KIND, either express or implied.\n",
              "// See the License for the specific language governing permissions and\n",
              "// limitations under the License.\n",
              "\n",
              "/**\n",
              " * @fileoverview Helpers for google.colab Python module.\n",
              " */\n",
              "(function(scope) {\n",
              "function span(text, styleAttributes = {}) {\n",
              "  const element = document.createElement('span');\n",
              "  element.textContent = text;\n",
              "  for (const key of Object.keys(styleAttributes)) {\n",
              "    element.style[key] = styleAttributes[key];\n",
              "  }\n",
              "  return element;\n",
              "}\n",
              "\n",
              "// Max number of bytes which will be uploaded at a time.\n",
              "const MAX_PAYLOAD_SIZE = 100 * 1024;\n",
              "\n",
              "function _uploadFiles(inputId, outputId) {\n",
              "  const steps = uploadFilesStep(inputId, outputId);\n",
              "  const outputElement = document.getElementById(outputId);\n",
              "  // Cache steps on the outputElement to make it available for the next call\n",
              "  // to uploadFilesContinue from Python.\n",
              "  outputElement.steps = steps;\n",
              "\n",
              "  return _uploadFilesContinue(outputId);\n",
              "}\n",
              "\n",
              "// This is roughly an async generator (not supported in the browser yet),\n",
              "// where there are multiple asynchronous steps and the Python side is going\n",
              "// to poll for completion of each step.\n",
              "// This uses a Promise to block the python side on completion of each step,\n",
              "// then passes the result of the previous step as the input to the next step.\n",
              "function _uploadFilesContinue(outputId) {\n",
              "  const outputElement = document.getElementById(outputId);\n",
              "  const steps = outputElement.steps;\n",
              "\n",
              "  const next = steps.next(outputElement.lastPromiseValue);\n",
              "  return Promise.resolve(next.value.promise).then((value) => {\n",
              "    // Cache the last promise value to make it available to the next\n",
              "    // step of the generator.\n",
              "    outputElement.lastPromiseValue = value;\n",
              "    return next.value.response;\n",
              "  });\n",
              "}\n",
              "\n",
              "/**\n",
              " * Generator function which is called between each async step of the upload\n",
              " * process.\n",
              " * @param {string} inputId Element ID of the input file picker element.\n",
              " * @param {string} outputId Element ID of the output display.\n",
              " * @return {!Iterable<!Object>} Iterable of next steps.\n",
              " */\n",
              "function* uploadFilesStep(inputId, outputId) {\n",
              "  const inputElement = document.getElementById(inputId);\n",
              "  inputElement.disabled = false;\n",
              "\n",
              "  const outputElement = document.getElementById(outputId);\n",
              "  outputElement.innerHTML = '';\n",
              "\n",
              "  const pickedPromise = new Promise((resolve) => {\n",
              "    inputElement.addEventListener('change', (e) => {\n",
              "      resolve(e.target.files);\n",
              "    });\n",
              "  });\n",
              "\n",
              "  const cancel = document.createElement('button');\n",
              "  inputElement.parentElement.appendChild(cancel);\n",
              "  cancel.textContent = 'Cancel upload';\n",
              "  const cancelPromise = new Promise((resolve) => {\n",
              "    cancel.onclick = () => {\n",
              "      resolve(null);\n",
              "    };\n",
              "  });\n",
              "\n",
              "  // Wait for the user to pick the files.\n",
              "  const files = yield {\n",
              "    promise: Promise.race([pickedPromise, cancelPromise]),\n",
              "    response: {\n",
              "      action: 'starting',\n",
              "    }\n",
              "  };\n",
              "\n",
              "  cancel.remove();\n",
              "\n",
              "  // Disable the input element since further picks are not allowed.\n",
              "  inputElement.disabled = true;\n",
              "\n",
              "  if (!files) {\n",
              "    return {\n",
              "      response: {\n",
              "        action: 'complete',\n",
              "      }\n",
              "    };\n",
              "  }\n",
              "\n",
              "  for (const file of files) {\n",
              "    const li = document.createElement('li');\n",
              "    li.append(span(file.name, {fontWeight: 'bold'}));\n",
              "    li.append(span(\n",
              "        `(${file.type || 'n/a'}) - ${file.size} bytes, ` +\n",
              "        `last modified: ${\n",
              "            file.lastModifiedDate ? file.lastModifiedDate.toLocaleDateString() :\n",
              "                                    'n/a'} - `));\n",
              "    const percent = span('0% done');\n",
              "    li.appendChild(percent);\n",
              "\n",
              "    outputElement.appendChild(li);\n",
              "\n",
              "    const fileDataPromise = new Promise((resolve) => {\n",
              "      const reader = new FileReader();\n",
              "      reader.onload = (e) => {\n",
              "        resolve(e.target.result);\n",
              "      };\n",
              "      reader.readAsArrayBuffer(file);\n",
              "    });\n",
              "    // Wait for the data to be ready.\n",
              "    let fileData = yield {\n",
              "      promise: fileDataPromise,\n",
              "      response: {\n",
              "        action: 'continue',\n",
              "      }\n",
              "    };\n",
              "\n",
              "    // Use a chunked sending to avoid message size limits. See b/62115660.\n",
              "    let position = 0;\n",
              "    do {\n",
              "      const length = Math.min(fileData.byteLength - position, MAX_PAYLOAD_SIZE);\n",
              "      const chunk = new Uint8Array(fileData, position, length);\n",
              "      position += length;\n",
              "\n",
              "      const base64 = btoa(String.fromCharCode.apply(null, chunk));\n",
              "      yield {\n",
              "        response: {\n",
              "          action: 'append',\n",
              "          file: file.name,\n",
              "          data: base64,\n",
              "        },\n",
              "      };\n",
              "\n",
              "      let percentDone = fileData.byteLength === 0 ?\n",
              "          100 :\n",
              "          Math.round((position / fileData.byteLength) * 100);\n",
              "      percent.textContent = `${percentDone}% done`;\n",
              "\n",
              "    } while (position < fileData.byteLength);\n",
              "  }\n",
              "\n",
              "  // All done.\n",
              "  yield {\n",
              "    response: {\n",
              "      action: 'complete',\n",
              "    }\n",
              "  };\n",
              "}\n",
              "\n",
              "scope.google = scope.google || {};\n",
              "scope.google.colab = scope.google.colab || {};\n",
              "scope.google.colab._files = {\n",
              "  _uploadFiles,\n",
              "  _uploadFilesContinue,\n",
              "};\n",
              "})(self);\n",
              "</script> "
            ]
          },
          "metadata": {}
        },
        {
          "output_type": "stream",
          "name": "stdout",
          "text": [
            "Saving minutes_n_ingredients.csv to minutes_n_ingredients.csv\n"
          ]
        }
      ]
    },
    {
      "cell_type": "code",
      "execution_count": 2,
      "metadata": {
        "colab": {
          "base_uri": "https://localhost:8080/"
        },
        "id": "hNUCc3kE1fl-",
        "outputId": "9ad9cd35-1079-44ec-f02a-3d003e81b75c"
      },
      "outputs": [
        {
          "output_type": "stream",
          "name": "stdout",
          "text": [
            "[[127244     60     16]\n",
            " [ 23891     25      7]\n",
            " [ 94746     10      6]\n",
            " [ 67660      5      6]\n",
            " [157911     60     14]]\n"
          ]
        }
      ],
      "source": [
        "#1\n",
        "\n",
        "arr = np.loadtxt(\"minutes_n_ingredients.csv\", delimiter=\",\", skiprows=1, dtype='int32')\n",
        "print(arr[:5])"
      ]
    },
    {
      "cell_type": "code",
      "source": [
        "#2 Вычислите среднее значение, минимум, максимум и медиану по каждому из\n",
        "# столбцов, кроме первого. \n",
        "print( \"Средние значения:\", np.mean(arr[:,1]), \",\", np.mean(arr[:,2]))\n",
        "print( \"Максимальные значения:\", np.max(arr[:,1]), \",\", np.max(arr[:,2]))\n",
        "print( \"Минимальные значения:\", np.min(arr[:,1]), \",\", np.min(arr[:,2]))\n",
        "print( \"Медианные значения:\", np.median(arr[:,1]), \",\", np.median(arr[:,2]))"
      ],
      "metadata": {
        "colab": {
          "base_uri": "https://localhost:8080/"
        },
        "id": "6O8WIYkJCKjt",
        "outputId": "fa41921c-70dd-4120-ab32-ed38e825e394"
      },
      "execution_count": 3,
      "outputs": [
        {
          "output_type": "stream",
          "name": "stdout",
          "text": [
            "Средние значения: 21601.00169 , 9.05528\n",
            "Максимальные значения: 2147483647 , 39\n",
            "Минимальные значения: 0 , 1\n",
            "Медианные значения: 40.0 , 9.0\n"
          ]
        }
      ]
    },
    {
      "cell_type": "code",
      "source": [
        "#3 Ограничьте сверху значения продолжительности выполнения рецепта\n",
        "# значением квантиля q0.75\n",
        "\n",
        "#arr[:,1] = np.clip(arr[:,1], a_min=None, a_max=np.quantile(arr[:,1], .75))\n",
        "#print(arr)\n",
        "\n",
        "q75=np.quantile(arr[:,1], .75)\n",
        "arr[:,1]= np.clip(arr[:,1], 0, q75)\n",
        "print(arr)\n"
      ],
      "metadata": {
        "colab": {
          "base_uri": "https://localhost:8080/"
        },
        "id": "DeVBVEZCOs14",
        "outputId": "233a0269-7a21-4477-fba9-a18cc99f3b37"
      },
      "execution_count": 4,
      "outputs": [
        {
          "output_type": "stream",
          "name": "stdout",
          "text": [
            "[[127244     60     16]\n",
            " [ 23891     25      7]\n",
            " [ 94746     10      6]\n",
            " ...\n",
            " [498432     65     15]\n",
            " [370915      5      4]\n",
            " [ 81993     65     14]]\n"
          ]
        }
      ]
    },
    {
      "cell_type": "code",
      "source": [
        "#4 Посчитайте, для скольких рецептов указана продолжительность, равная нулю. \n",
        "#Замените для таких строк значение в данном столбце на 1.\n",
        "\n",
        "count = np.count_nonzero(arr[:,1] == 0)\n",
        "print(\"Рецептов с продолжительностью 0:\", count)\n",
        "arr[arr[:,1] == 0 ] = 1\n"
      ],
      "metadata": {
        "colab": {
          "base_uri": "https://localhost:8080/"
        },
        "id": "MY0gtXsMRTQ5",
        "outputId": "1c4840ab-26b1-4a12-fd01-5640a7c2daef"
      },
      "execution_count": 5,
      "outputs": [
        {
          "output_type": "stream",
          "name": "stdout",
          "text": [
            "Рецептов с продолжительностью 0: 479\n"
          ]
        }
      ]
    },
    {
      "cell_type": "code",
      "source": [
        "#5 Посчитайте, сколько уникальных рецептов находится в датасете.\n",
        "print(len(np.unique(arr, axis=1)))"
      ],
      "metadata": {
        "colab": {
          "base_uri": "https://localhost:8080/"
        },
        "id": "eMDtXYCEtEw2",
        "outputId": "4bb2f940-5be4-4d92-a464-97b6b598a367"
      },
      "execution_count": 6,
      "outputs": [
        {
          "output_type": "stream",
          "name": "stdout",
          "text": [
            "100000\n"
          ]
        }
      ]
    },
    {
      "cell_type": "code",
      "source": [
        "#6 Сколько и каких различных значений кол-ва ингредиентов присутвует в \n",
        "#рецептах из датасета?\n",
        "print(\"Кол-во уникальных значений:\", len (np.unique(arr[:,2])))\n",
        "print(\"Эти уникальные значения:\", np.unique(arr[:,2]))"
      ],
      "metadata": {
        "colab": {
          "base_uri": "https://localhost:8080/"
        },
        "id": "4lu0vYnxwL8y",
        "outputId": "76f28616-695d-48cf-b96e-ff8be9063e22"
      },
      "execution_count": 7,
      "outputs": [
        {
          "output_type": "stream",
          "name": "stdout",
          "text": [
            "Кол-во уникальных значений: 37\n",
            "Эти уникальные значения: [ 1  2  3  4  5  6  7  8  9 10 11 12 13 14 15 16 17 18 19 20 21 22 23 24\n",
            " 25 26 27 28 29 30 31 32 33 34 35 37 39]\n"
          ]
        }
      ]
    },
    {
      "cell_type": "code",
      "source": [
        "#7 Создайте версию массива, содержащую информацию только о рецептах, состоящих \n",
        "#не более чем из 5 ингредиентов.\n",
        "\n",
        "arr2 = arr[arr[:,2]<=5, :].copy()\n",
        "print(len(arr2))"
      ],
      "metadata": {
        "id": "weB2fhbFx24K",
        "colab": {
          "base_uri": "https://localhost:8080/"
        },
        "outputId": "ad81b9a6-67eb-4ece-93ff-1f7c2101ddac"
      },
      "execution_count": 8,
      "outputs": [
        {
          "output_type": "stream",
          "name": "stdout",
          "text": [
            "17653\n"
          ]
        }
      ]
    },
    {
      "cell_type": "code",
      "source": [
        "#8 Для каждого рецепта посчитайте, сколько в среднем ингредиентов приходится на\n",
        "#одну минуту рецепта.Найдите максимальное значение этой величины \n",
        "#для всего датасета\n",
        "\n",
        "avg = np.empty(len(arr))\n",
        "\n",
        "#avg = np.array(empty)\n",
        "avg = arr[:,2]/arr[:,1]\n",
        "\n",
        "print(\"Максимальное значение:\", np.max(avg))"
      ],
      "metadata": {
        "id": "H-o1N1A08jgD",
        "colab": {
          "base_uri": "https://localhost:8080/"
        },
        "outputId": "514ae2eb-8bb1-4947-a53b-f6d541e754f8"
      },
      "execution_count": 12,
      "outputs": [
        {
          "output_type": "stream",
          "name": "stdout",
          "text": [
            "Максимальное значение: 23.0\n"
          ]
        }
      ]
    },
    {
      "cell_type": "code",
      "source": [
        "#9 Вычислите среднее количество ингредиентов для топ-100 рецептов с \n",
        "#наибольшей продолжительностью\n",
        "\n",
        "sorted = arr[arr[:,1].argsort()][::-1] #sort по убыванию\n",
        "print(np.average(sorted[:,2][:100 ]))"
      ],
      "metadata": {
        "id": "H_BhmDIxD-zR",
        "colab": {
          "base_uri": "https://localhost:8080/"
        },
        "outputId": "2a6addcb-fddd-483a-9996-6d82db7d65ad"
      },
      "execution_count": 15,
      "outputs": [
        {
          "output_type": "stream",
          "name": "stdout",
          "text": [
            "9.96\n"
          ]
        }
      ]
    },
    {
      "cell_type": "code",
      "source": [
        "#10 Выберите случайным образом и выведите информацию о 10 различных рецептах\n",
        "import random\n",
        "ind = np.random.randint(len(arr), size=10)\n",
        "print (arr[ind,:])"
      ],
      "metadata": {
        "colab": {
          "base_uri": "https://localhost:8080/"
        },
        "id": "0wWhFwt9EF-l",
        "outputId": "39934e88-8539-42bf-cea6-dee53b427669"
      },
      "execution_count": 16,
      "outputs": [
        {
          "output_type": "stream",
          "name": "stdout",
          "text": [
            "[[154221     45     12]\n",
            " [484339     65     12]\n",
            " [300192     20      6]\n",
            " [231675     65     10]\n",
            " [199744      5      5]\n",
            " [469918     30      5]\n",
            " [525677     35     12]\n",
            " [177450     38      6]\n",
            " [ 69743     45      9]\n",
            " [312613     65     10]]\n"
          ]
        }
      ]
    },
    {
      "cell_type": "code",
      "source": [
        "#11 Выведите процент рецептов, кол-во ингредиентов в которых меньше среднего.\n",
        "ing = arr[:,2]\n",
        "aing = np.average(ing)\n",
        "print(len (arr[ing<aing])/len(arr)*100)"
      ],
      "metadata": {
        "id": "4TZW1t8MHrRe",
        "colab": {
          "base_uri": "https://localhost:8080/"
        },
        "outputId": "925118ec-8b31-43f5-ee56-40c95f0c3160"
      },
      "execution_count": 22,
      "outputs": [
        {
          "output_type": "stream",
          "name": "stdout",
          "text": [
            "58.989000000000004\n"
          ]
        }
      ]
    },
    {
      "cell_type": "code",
      "source": [
        "#12 Назовем \"простым\" такой рецепт, длительность выполнения которого не больше 20 \n",
        "# минут и кол-во ингредиентов в котором не больше 5. Создайте версию датасета \n",
        "#с дополнительным столбцом, значениямикоторого являются 1, если рецепт простой, \n",
        "#и 0 в противном случае.\n",
        "e = (arr[:, 1] <= 20) & (arr[:, 2] <= 5) \n",
        "easy = np.append(arr, e[:, np.newaxis], axis=1)\n",
        "print(easy)"
      ],
      "metadata": {
        "id": "YnzFMdYLH1Be",
        "colab": {
          "base_uri": "https://localhost:8080/"
        },
        "outputId": "6d9f2d35-56bf-4282-8c84-f17119e298e6"
      },
      "execution_count": 24,
      "outputs": [
        {
          "output_type": "stream",
          "name": "stdout",
          "text": [
            "[[127244     60     16      0]\n",
            " [ 23891     25      7      0]\n",
            " [ 94746     10      6      0]\n",
            " ...\n",
            " [498432     65     15      0]\n",
            " [370915      5      4      1]\n",
            " [ 81993     65     14      0]]\n"
          ]
        }
      ]
    },
    {
      "cell_type": "code",
      "source": [
        "#13 Выведите процент \"простых\" рецептов в датасете\n",
        "print(len(easy[easy[:,3]==1])/len(easy)*100)"
      ],
      "metadata": {
        "id": "bEYPyGH6ICve",
        "colab": {
          "base_uri": "https://localhost:8080/"
        },
        "outputId": "db7c2024-7d2a-47ab-f5fc-540019017936"
      },
      "execution_count": 25,
      "outputs": [
        {
          "output_type": "stream",
          "name": "stdout",
          "text": [
            "9.943\n"
          ]
        }
      ]
    },
    {
      "cell_type": "code",
      "source": [
        "#14 \n",
        "short = arr[:,1]<10\n",
        "stand = (arr[:,1]>=10) & (arr[:,1]<20)\n",
        "long = arr[:,1]>=20\n",
        "b = min(len(arr[short]), len(arr[stand]), len(arr[long]))\n",
        "new = np.array(((arr[short])[:b], (arr[stand])[:b],(arr[long])[:b] ))\n",
        "print(\"Форма полученного массива:\", new.shape)"
      ],
      "metadata": {
        "id": "P9mS83p8IHSf",
        "colab": {
          "base_uri": "https://localhost:8080/"
        },
        "outputId": "9d0b7210-53ea-45f1-d4d3-7cf4801c931b"
      },
      "execution_count": 28,
      "outputs": [
        {
          "output_type": "stream",
          "name": "stdout",
          "text": [
            "Форма полученного массива: (3, 7588, 3)\n"
          ]
        }
      ]
    }
  ]
}