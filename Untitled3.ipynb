{
  "nbformat": 4,
  "nbformat_minor": 0,
  "metadata": {
    "colab": {
      "provenance": [],
      "authorship_tag": "ABX9TyMtAb/+l8BpPTZ+8iMZAbyu",
      "include_colab_link": true
    },
    "kernelspec": {
      "name": "python3",
      "display_name": "Python 3"
    },
    "language_info": {
      "name": "python"
    }
  },
  "cells": [
    {
      "cell_type": "markdown",
      "metadata": {
        "id": "view-in-github",
        "colab_type": "text"
      },
      "source": [
        "<a href=\"https://colab.research.google.com/github/DFruktova/01_numpy_Fruktova_Daria.ipynb/blob/main/Untitled3.ipynb\" target=\"_parent\"><img src=\"https://colab.research.google.com/assets/colab-badge.svg\" alt=\"Open In Colab\"/></a>"
      ]
    },
    {
      "cell_type": "markdown",
      "source": [
        "# Лабораторная работа №1"
      ],
      "metadata": {
        "id": "r7oUIuxV2sYi"
      }
    },
    {
      "cell_type": "code",
      "source": [
        "# импорт библиотеки и файла\n",
        "import numpy as np\n",
        "import csv\n",
        "from google.colab import files\n",
        "uploaded = files.upload()\n"
      ],
      "metadata": {
        "colab": {
          "base_uri": "https://localhost:8080/",
          "height": 73
        },
        "id": "GOBML6shhWdS",
        "outputId": "65293225-f410-4bc7-df7b-5be569520ba6"
      },
      "execution_count": 6,
      "outputs": [
        {
          "output_type": "display_data",
          "data": {
            "text/plain": [
              "<IPython.core.display.HTML object>"
            ],
            "text/html": [
              "\n",
              "     <input type=\"file\" id=\"files-a303af06-6b39-49ea-aa63-97abf8412112\" name=\"files[]\" multiple disabled\n",
              "        style=\"border:none\" />\n",
              "     <output id=\"result-a303af06-6b39-49ea-aa63-97abf8412112\">\n",
              "      Upload widget is only available when the cell has been executed in the\n",
              "      current browser session. Please rerun this cell to enable.\n",
              "      </output>\n",
              "      <script>// Copyright 2017 Google LLC\n",
              "//\n",
              "// Licensed under the Apache License, Version 2.0 (the \"License\");\n",
              "// you may not use this file except in compliance with the License.\n",
              "// You may obtain a copy of the License at\n",
              "//\n",
              "//      http://www.apache.org/licenses/LICENSE-2.0\n",
              "//\n",
              "// Unless required by applicable law or agreed to in writing, software\n",
              "// distributed under the License is distributed on an \"AS IS\" BASIS,\n",
              "// WITHOUT WARRANTIES OR CONDITIONS OF ANY KIND, either express or implied.\n",
              "// See the License for the specific language governing permissions and\n",
              "// limitations under the License.\n",
              "\n",
              "/**\n",
              " * @fileoverview Helpers for google.colab Python module.\n",
              " */\n",
              "(function(scope) {\n",
              "function span(text, styleAttributes = {}) {\n",
              "  const element = document.createElement('span');\n",
              "  element.textContent = text;\n",
              "  for (const key of Object.keys(styleAttributes)) {\n",
              "    element.style[key] = styleAttributes[key];\n",
              "  }\n",
              "  return element;\n",
              "}\n",
              "\n",
              "// Max number of bytes which will be uploaded at a time.\n",
              "const MAX_PAYLOAD_SIZE = 100 * 1024;\n",
              "\n",
              "function _uploadFiles(inputId, outputId) {\n",
              "  const steps = uploadFilesStep(inputId, outputId);\n",
              "  const outputElement = document.getElementById(outputId);\n",
              "  // Cache steps on the outputElement to make it available for the next call\n",
              "  // to uploadFilesContinue from Python.\n",
              "  outputElement.steps = steps;\n",
              "\n",
              "  return _uploadFilesContinue(outputId);\n",
              "}\n",
              "\n",
              "// This is roughly an async generator (not supported in the browser yet),\n",
              "// where there are multiple asynchronous steps and the Python side is going\n",
              "// to poll for completion of each step.\n",
              "// This uses a Promise to block the python side on completion of each step,\n",
              "// then passes the result of the previous step as the input to the next step.\n",
              "function _uploadFilesContinue(outputId) {\n",
              "  const outputElement = document.getElementById(outputId);\n",
              "  const steps = outputElement.steps;\n",
              "\n",
              "  const next = steps.next(outputElement.lastPromiseValue);\n",
              "  return Promise.resolve(next.value.promise).then((value) => {\n",
              "    // Cache the last promise value to make it available to the next\n",
              "    // step of the generator.\n",
              "    outputElement.lastPromiseValue = value;\n",
              "    return next.value.response;\n",
              "  });\n",
              "}\n",
              "\n",
              "/**\n",
              " * Generator function which is called between each async step of the upload\n",
              " * process.\n",
              " * @param {string} inputId Element ID of the input file picker element.\n",
              " * @param {string} outputId Element ID of the output display.\n",
              " * @return {!Iterable<!Object>} Iterable of next steps.\n",
              " */\n",
              "function* uploadFilesStep(inputId, outputId) {\n",
              "  const inputElement = document.getElementById(inputId);\n",
              "  inputElement.disabled = false;\n",
              "\n",
              "  const outputElement = document.getElementById(outputId);\n",
              "  outputElement.innerHTML = '';\n",
              "\n",
              "  const pickedPromise = new Promise((resolve) => {\n",
              "    inputElement.addEventListener('change', (e) => {\n",
              "      resolve(e.target.files);\n",
              "    });\n",
              "  });\n",
              "\n",
              "  const cancel = document.createElement('button');\n",
              "  inputElement.parentElement.appendChild(cancel);\n",
              "  cancel.textContent = 'Cancel upload';\n",
              "  const cancelPromise = new Promise((resolve) => {\n",
              "    cancel.onclick = () => {\n",
              "      resolve(null);\n",
              "    };\n",
              "  });\n",
              "\n",
              "  // Wait for the user to pick the files.\n",
              "  const files = yield {\n",
              "    promise: Promise.race([pickedPromise, cancelPromise]),\n",
              "    response: {\n",
              "      action: 'starting',\n",
              "    }\n",
              "  };\n",
              "\n",
              "  cancel.remove();\n",
              "\n",
              "  // Disable the input element since further picks are not allowed.\n",
              "  inputElement.disabled = true;\n",
              "\n",
              "  if (!files) {\n",
              "    return {\n",
              "      response: {\n",
              "        action: 'complete',\n",
              "      }\n",
              "    };\n",
              "  }\n",
              "\n",
              "  for (const file of files) {\n",
              "    const li = document.createElement('li');\n",
              "    li.append(span(file.name, {fontWeight: 'bold'}));\n",
              "    li.append(span(\n",
              "        `(${file.type || 'n/a'}) - ${file.size} bytes, ` +\n",
              "        `last modified: ${\n",
              "            file.lastModifiedDate ? file.lastModifiedDate.toLocaleDateString() :\n",
              "                                    'n/a'} - `));\n",
              "    const percent = span('0% done');\n",
              "    li.appendChild(percent);\n",
              "\n",
              "    outputElement.appendChild(li);\n",
              "\n",
              "    const fileDataPromise = new Promise((resolve) => {\n",
              "      const reader = new FileReader();\n",
              "      reader.onload = (e) => {\n",
              "        resolve(e.target.result);\n",
              "      };\n",
              "      reader.readAsArrayBuffer(file);\n",
              "    });\n",
              "    // Wait for the data to be ready.\n",
              "    let fileData = yield {\n",
              "      promise: fileDataPromise,\n",
              "      response: {\n",
              "        action: 'continue',\n",
              "      }\n",
              "    };\n",
              "\n",
              "    // Use a chunked sending to avoid message size limits. See b/62115660.\n",
              "    let position = 0;\n",
              "    do {\n",
              "      const length = Math.min(fileData.byteLength - position, MAX_PAYLOAD_SIZE);\n",
              "      const chunk = new Uint8Array(fileData, position, length);\n",
              "      position += length;\n",
              "\n",
              "      const base64 = btoa(String.fromCharCode.apply(null, chunk));\n",
              "      yield {\n",
              "        response: {\n",
              "          action: 'append',\n",
              "          file: file.name,\n",
              "          data: base64,\n",
              "        },\n",
              "      };\n",
              "\n",
              "      let percentDone = fileData.byteLength === 0 ?\n",
              "          100 :\n",
              "          Math.round((position / fileData.byteLength) * 100);\n",
              "      percent.textContent = `${percentDone}% done`;\n",
              "\n",
              "    } while (position < fileData.byteLength);\n",
              "  }\n",
              "\n",
              "  // All done.\n",
              "  yield {\n",
              "    response: {\n",
              "      action: 'complete',\n",
              "    }\n",
              "  };\n",
              "}\n",
              "\n",
              "scope.google = scope.google || {};\n",
              "scope.google.colab = scope.google.colab || {};\n",
              "scope.google.colab._files = {\n",
              "  _uploadFiles,\n",
              "  _uploadFilesContinue,\n",
              "};\n",
              "})(self);\n",
              "</script> "
            ]
          },
          "metadata": {}
        },
        {
          "output_type": "stream",
          "name": "stdout",
          "text": [
            "Saving minutes_n_ingredients.csv to minutes_n_ingredients.csv\n"
          ]
        }
      ]
    },
    {
      "cell_type": "code",
      "execution_count": 7,
      "metadata": {
        "colab": {
          "base_uri": "https://localhost:8080/"
        },
        "id": "hNUCc3kE1fl-",
        "outputId": "bb5d1d05-14fa-45f9-9d81-5eef7f9a5c88"
      },
      "outputs": [
        {
          "output_type": "stream",
          "name": "stdout",
          "text": [
            "[[127244     60     16]\n",
            " [ 23891     25      7]\n",
            " [ 94746     10      6]\n",
            " [ 67660      5      6]\n",
            " [157911     60     14]]\n"
          ]
        }
      ],
      "source": [
        "#1\n",
        "arr = np.loadtxt(\"minutes_n_ingredients.csv\", delimiter=\",\", skiprows=1, dtype=np.int32)\n",
        "print(arr[:5])"
      ]
    },
    {
      "cell_type": "code",
      "source": [
        "#2 Вычислите среднее значение, минимум, максимум и медиану по каждому из\n",
        "# столбцов, кроме первого. \n",
        "print( \"Средние значения:\", np.mean(arr[:,1]), \",\", np.mean(arr[:,2]))\n",
        "print( \"Максимальные значения:\", np.max(arr[:,1]), \",\", np.max(arr[:,2]))\n",
        "print( \"Минимальные значения:\", np.min(arr[:,1]), \",\", np.min(arr[:,2]))\n",
        "print( \"Медианные значения:\", np.median(arr[:,1]), \",\", np.median(arr[:,2]))"
      ],
      "metadata": {
        "colab": {
          "base_uri": "https://localhost:8080/"
        },
        "id": "6O8WIYkJCKjt",
        "outputId": "f1100acb-879e-4371-985f-520daa0b6d8d"
      },
      "execution_count": 9,
      "outputs": [
        {
          "output_type": "stream",
          "name": "stdout",
          "text": [
            "Средние значения: 21601.00169 , 9.05528\n",
            "Максимальные значения: 2147483647 , 39\n",
            "Минимальные значения: 0 , 1\n",
            "Медианные значения: 40.0 , 9.0\n"
          ]
        }
      ]
    },
    {
      "cell_type": "code",
      "source": [
        "#3 Ограничьте сверху значения продолжительности выполнения рецепта\n",
        "# значением квантиля q0.75\n",
        "arr[:,1] = np.clip(arr[:,1], a_min=None, a_max=np.quantile(arr[:,1], .75))\n",
        "print(arr)"
      ],
      "metadata": {
        "colab": {
          "base_uri": "https://localhost:8080/"
        },
        "id": "DeVBVEZCOs14",
        "outputId": "5827858a-9aff-4f1f-b77d-79d8d8814d44"
      },
      "execution_count": 10,
      "outputs": [
        {
          "output_type": "stream",
          "name": "stdout",
          "text": [
            "[[127244     60     16]\n",
            " [ 23891     25      7]\n",
            " [ 94746     10      6]\n",
            " ...\n",
            " [498432     65     15]\n",
            " [370915      5      4]\n",
            " [ 81993     65     14]]\n"
          ]
        }
      ]
    },
    {
      "cell_type": "code",
      "source": [
        "#4 Посчитайте, для скольких рецептов указана продолжительность, равная нулю. \n",
        "#Замените для таких строк значение в данном столбце на 1.\n",
        "count = np.count_nonzero(arr[:,1] == 0)\n",
        "print(\"Рецептов с продолжительностью 0:\", count)\n",
        "arr[arr[:,1] == 0 ] = 1"
      ],
      "metadata": {
        "colab": {
          "base_uri": "https://localhost:8080/"
        },
        "id": "MY0gtXsMRTQ5",
        "outputId": "a7d10f81-7369-446b-dc2b-641cc1ba5e97"
      },
      "execution_count": 11,
      "outputs": [
        {
          "output_type": "stream",
          "name": "stdout",
          "text": [
            "Рецептов с продолжительностью 0: 479\n"
          ]
        }
      ]
    },
    {
      "cell_type": "code",
      "source": [
        "#5 Посчитайте, сколько уникальных рецептов находится в датасете.\n",
        "print(len (np.unique(arr)))"
      ],
      "metadata": {
        "colab": {
          "base_uri": "https://localhost:8080/"
        },
        "id": "eMDtXYCEtEw2",
        "outputId": "8c169133-b6ff-4bd8-d14b-68fb4145b2fe"
      },
      "execution_count": 12,
      "outputs": [
        {
          "output_type": "stream",
          "name": "stdout",
          "text": [
            "99579\n"
          ]
        }
      ]
    },
    {
      "cell_type": "code",
      "source": [
        "#6 Сколько и каких различных значений кол-ва ингредиентов присутвует в \n",
        "#рецептах из датасета?\n",
        "print(\"Кол-во уникальных значений:\", len (np.unique(arr[:,2])))\n",
        "print(\"Эти уникальные значения:\", np.unique(arr[:,2]))"
      ],
      "metadata": {
        "colab": {
          "base_uri": "https://localhost:8080/"
        },
        "id": "4lu0vYnxwL8y",
        "outputId": "c712832c-2d7b-4878-c6d9-c2a42bbea121"
      },
      "execution_count": 13,
      "outputs": [
        {
          "output_type": "stream",
          "name": "stdout",
          "text": [
            "Кол-во уникальных значений: 37\n",
            "Эти уникальные значения: [ 1  2  3  4  5  6  7  8  9 10 11 12 13 14 15 16 17 18 19 20 21 22 23 24\n",
            " 25 26 27 28 29 30 31 32 33 34 35 37 39]\n"
          ]
        }
      ]
    },
    {
      "cell_type": "code",
      "source": [
        "#7 Создайте версию массива, содержащую информацию только о рецептах, состоящих \n",
        "#не более чем из 5 ингредиентов.\n",
        "#arr2 = np.copy(arr, subok = arr.all([:,2]<=5))\n",
        "a = np.patrition(-arr,100)\n",
        "#arr2 = np.copy(arr) "
      ],
      "metadata": {
        "id": "weB2fhbFx24K"
      },
      "execution_count": null,
      "outputs": []
    },
    {
      "cell_type": "code",
      "source": [
        "#8 Для каждого рецепта посчитайте, сколько в среднем ингредиентов приходится на\n",
        "#одну минуту рецепта.Найдите максимальное значение этой величины \n",
        "#для всего датасета\n",
        "avg = np.empty(len(arr))\n",
        "\n",
        "#avg = np.array(empty)\n",
        "avg = np.append(avg, arr[:,2]/arr[:,1])\n",
        "#print(avg)\n",
        "print(\"Максимальное значение:\", np.max(avg))"
      ],
      "metadata": {
        "id": "H-o1N1A08jgD",
        "colab": {
          "base_uri": "https://localhost:8080/"
        },
        "outputId": "c92f575a-a44c-4ec8-c0a1-0b4b9f494bf1"
      },
      "execution_count": 37,
      "outputs": [
        {
          "output_type": "stream",
          "name": "stdout",
          "text": [
            "Максимальное значение: 23.0\n"
          ]
        }
      ]
    },
    {
      "cell_type": "code",
      "source": [
        "#9 Вычислите среднее количество ингредиентов для топ-100 рецептов с \n",
        "#наибольшей продолжительностью\n",
        "a = np.partition(arr, axis=0, 100)\n",
        "print(result = -a[:100])"
      ],
      "metadata": {
        "id": "H_BhmDIxD-zR",
        "colab": {
          "base_uri": "https://localhost:8080/",
          "height": 131
        },
        "outputId": "934cae8f-d51b-41a9-da7e-84afb081506d"
      },
      "execution_count": 43,
      "outputs": [
        {
          "output_type": "error",
          "ename": "SyntaxError",
          "evalue": "ignored",
          "traceback": [
            "\u001b[0;36m  File \u001b[0;32m\"<ipython-input-43-aa2867666a4c>\"\u001b[0;36m, line \u001b[0;32m3\u001b[0m\n\u001b[0;31m    a = np.partition(arr, axis=0, 100)\u001b[0m\n\u001b[0m                                  ^\u001b[0m\n\u001b[0;31mSyntaxError\u001b[0m\u001b[0;31m:\u001b[0m positional argument follows keyword argument\n"
          ]
        }
      ]
    },
    {
      "cell_type": "code",
      "source": [
        "#10 Выберите случайным образом и выведите информацию о 10 различных рецептах\n",
        "import random\n",
        "ind = np.random.randint(len(arr), size=10)\n",
        "print (arr[ind,:])"
      ],
      "metadata": {
        "colab": {
          "base_uri": "https://localhost:8080/"
        },
        "id": "0wWhFwt9EF-l",
        "outputId": "d8f93faf-c7f3-4088-f1a7-9cc66054fb19"
      },
      "execution_count": 15,
      "outputs": [
        {
          "output_type": "stream",
          "name": "stdout",
          "text": [
            "[[ 53920     35      6]\n",
            " [338965     15     10]\n",
            " [127049     50      8]\n",
            " [ 27801     18      7]\n",
            " [146213      5      5]\n",
            " [166754     65     11]\n",
            " [206060     55     10]\n",
            " [353435     25      6]\n",
            " [ 93720     40      4]\n",
            " [165103     40      7]]\n"
          ]
        }
      ]
    },
    {
      "cell_type": "code",
      "source": [
        "#11 Выведите процент рецептов, кол-во ингредиентов в которых меньше среднего."
      ],
      "metadata": {
        "id": "4TZW1t8MHrRe"
      },
      "execution_count": null,
      "outputs": []
    },
    {
      "cell_type": "code",
      "source": [
        "#12 Назовем \"простым\" такой рецепт, длительность выполнения которого не больше 20 \n",
        "# минут и кол-во ингредиентов в котором не больше 5. Создайте версию датасета \n",
        "#с дополнительным столбцом, значениямикоторого являются 1, если рецепт простой, \n",
        "#и 0 в противном случае."
      ],
      "metadata": {
        "id": "YnzFMdYLH1Be"
      },
      "execution_count": null,
      "outputs": []
    },
    {
      "cell_type": "code",
      "source": [
        "#13 Выведите процент \"простых\" рецептов в датасете"
      ],
      "metadata": {
        "id": "bEYPyGH6ICve"
      },
      "execution_count": null,
      "outputs": []
    },
    {
      "cell_type": "code",
      "source": [
        "#14 "
      ],
      "metadata": {
        "id": "P9mS83p8IHSf"
      },
      "execution_count": null,
      "outputs": []
    }
  ]
}