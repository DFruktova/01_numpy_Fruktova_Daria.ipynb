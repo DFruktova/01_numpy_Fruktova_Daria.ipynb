{
  "nbformat": 4,
  "nbformat_minor": 0,
  "metadata": {
    "colab": {
      "provenance": [],
      "authorship_tag": "ABX9TyNWG6isCZz3gcvW0Vz0HSpK",
      "include_colab_link": true
    },
    "kernelspec": {
      "name": "python3",
      "display_name": "Python 3"
    },
    "language_info": {
      "name": "python"
    }
  },
  "cells": [
    {
      "cell_type": "markdown",
      "metadata": {
        "id": "view-in-github",
        "colab_type": "text"
      },
      "source": [
        "<a href=\"https://colab.research.google.com/github/DFruktova/01_numpy_Fruktova_Daria.ipynb/blob/main/Untitled3.ipynb\" target=\"_parent\"><img src=\"https://colab.research.google.com/assets/colab-badge.svg\" alt=\"Open In Colab\"/></a>"
      ]
    },
    {
      "cell_type": "markdown",
      "source": [
        "# Лабораторная работа №1"
      ],
      "metadata": {
        "id": "r7oUIuxV2sYi"
      }
    },
    {
      "cell_type": "code",
      "execution_count": 147,
      "metadata": {
        "colab": {
          "base_uri": "https://localhost:8080/"
        },
        "id": "hNUCc3kE1fl-",
        "outputId": "0a75b5c9-ad82-4d25-b7c6-052968ca4a2b"
      },
      "outputs": [
        {
          "output_type": "stream",
          "name": "stdout",
          "text": [
            "[[127244     60     16]\n",
            " [ 23891     25      7]\n",
            " [ 94746     10      6]\n",
            " [ 67660      5      6]\n",
            " [157911     60     14]]\n"
          ]
        }
      ],
      "source": [
        "#1\n",
        "import numpy as np\n",
        "import csv\n",
        "\n",
        "arr = np.loadtxt(\"minutes_n_ingredients.csv\", delimiter=\",\", skiprows=1, dtype=np.int32)\n",
        "print(arr[:5])"
      ]
    },
    {
      "cell_type": "code",
      "source": [
        "#2 Вычислите среднее значение, минимум, максимум и медиану по каждому из\n",
        "# столбцов, кроме первого. \n",
        "print( \"Средние значения:\", np.mean(arr[:,1]), \",\", np.mean(arr[:,2]))\n",
        "print( \"Максимальные значения:\", np.max(arr[:,1]), \",\", np.max(arr[:,2]))\n",
        "print( \"Минимальные значения:\", np.min(arr[:,1]), \",\", np.min(arr[:,2]))\n",
        "print( \"Медианные значения:\", np.median(arr[:,1]), \",\", np.median(arr[:,2]))"
      ],
      "metadata": {
        "colab": {
          "base_uri": "https://localhost:8080/"
        },
        "id": "6O8WIYkJCKjt",
        "outputId": "af67e457-0299-436e-d794-2510b7af9496"
      },
      "execution_count": 148,
      "outputs": [
        {
          "output_type": "stream",
          "name": "stdout",
          "text": [
            "Средние значения: 21601.00169 , 9.05528\n",
            "Максимальные значения: 2147483647 , 39\n",
            "Минимальные значения: 0 , 1\n",
            "Медианные значения: 40.0 , 9.0\n"
          ]
        }
      ]
    },
    {
      "cell_type": "code",
      "source": [
        "#3 Ограничьте сверху значения продолжительности выполнения рецепта\n",
        "# значением квантиля q0.75\n",
        "arr[:,1] = np.clip(arr[:,1], a_min=None, a_max=np.quantile(arr[:,1], .75))\n",
        "print(arr)"
      ],
      "metadata": {
        "colab": {
          "base_uri": "https://localhost:8080/"
        },
        "id": "DeVBVEZCOs14",
        "outputId": "721109d8-bc62-4c8b-b124-8985a0693801"
      },
      "execution_count": 149,
      "outputs": [
        {
          "output_type": "stream",
          "name": "stdout",
          "text": [
            "[[127244     60     16]\n",
            " [ 23891     25      7]\n",
            " [ 94746     10      6]\n",
            " ...\n",
            " [498432     65     15]\n",
            " [370915      5      4]\n",
            " [ 81993     65     14]]\n"
          ]
        }
      ]
    },
    {
      "cell_type": "code",
      "source": [
        "#4 Посчитайте, для скольких рецептов указана продолжительность, равная нулю. \n",
        "#Замените для таких строк значение в данном столбце на 1.\n",
        "count = np.count_nonzero(arr[:,1] == 0)\n",
        "print(\"Рецептов с продолжительностью 0:\", count)\n",
        "arr[arr[:,1] == 0 ] = 1"
      ],
      "metadata": {
        "colab": {
          "base_uri": "https://localhost:8080/"
        },
        "id": "MY0gtXsMRTQ5",
        "outputId": "51da8847-64d0-4321-ecd1-d25fc675bad2"
      },
      "execution_count": 150,
      "outputs": [
        {
          "output_type": "stream",
          "name": "stdout",
          "text": [
            "Рецептов с продолжительностью 0: 479\n"
          ]
        }
      ]
    },
    {
      "cell_type": "code",
      "source": [
        "#5 Посчитайте, сколько уникальных рецептов находится в датасете.\n",
        "print(len (np.unique(arr)))"
      ],
      "metadata": {
        "colab": {
          "base_uri": "https://localhost:8080/"
        },
        "id": "eMDtXYCEtEw2",
        "outputId": "f6ab2a93-c045-4088-debd-6487fbce6c07"
      },
      "execution_count": 151,
      "outputs": [
        {
          "output_type": "stream",
          "name": "stdout",
          "text": [
            "99579\n"
          ]
        }
      ]
    },
    {
      "cell_type": "code",
      "source": [
        "#6 Сколько и каких различных значений кол-ва ингредиентов присутвует в \n",
        "#рецептах из датасета?\n",
        "print(\"Кол-во уникальных значений:\", len (np.unique(arr[:,2])))\n",
        "print(\"Эти уникальные значения:\", np.unique(arr[:,2]))"
      ],
      "metadata": {
        "colab": {
          "base_uri": "https://localhost:8080/"
        },
        "id": "4lu0vYnxwL8y",
        "outputId": "f199a9a0-d4ff-4cc5-bb34-cc74a585a8fa"
      },
      "execution_count": 154,
      "outputs": [
        {
          "output_type": "stream",
          "name": "stdout",
          "text": [
            "Кол-во уникальных значений: 37\n",
            "Эти уникальные значения: [ 1  2  3  4  5  6  7  8  9 10 11 12 13 14 15 16 17 18 19 20 21 22 23 24\n",
            " 25 26 27 28 29 30 31 32 33 34 35 37 39]\n"
          ]
        }
      ]
    },
    {
      "cell_type": "code",
      "source": [
        "#7 Создайте версию массива, содержащую информацию только о рецептах, состоящих \n",
        "#не более чем из 5 ингредиентов.\n",
        "#arr2 = np.copy(arr, subok = arr.all([:,2]<=5))\n",
        "\n",
        "arr2 = np.copy(arr) "
      ],
      "metadata": {
        "id": "weB2fhbFx24K"
      },
      "execution_count": 165,
      "outputs": []
    },
    {
      "cell_type": "code",
      "source": [
        "#8 Для каждого рецепта посчитайте, сколько в среднем ингредиентов приходится на\n",
        "#одну минуту рецепта.Найдите максимальное значение этой величины \n",
        "#для всего датасета\n",
        "\n",
        "for "
      ],
      "metadata": {
        "id": "H-o1N1A08jgD"
      },
      "execution_count": null,
      "outputs": []
    },
    {
      "cell_type": "code",
      "source": [
        "#9 Вычислите среднее количество ингредиентов для топ-100 рецептов с \n",
        "#наибольшей продолжительностью"
      ],
      "metadata": {
        "id": "H_BhmDIxD-zR"
      },
      "execution_count": null,
      "outputs": []
    },
    {
      "cell_type": "code",
      "source": [
        "#10 Выберите случайным образом и выведите информацию о 10 различных рецептах\n",
        "import random\n",
        "ind = np.random.randint(len(arr), size=10)\n",
        "print (arr[ind,:])"
      ],
      "metadata": {
        "colab": {
          "base_uri": "https://localhost:8080/"
        },
        "id": "0wWhFwt9EF-l",
        "outputId": "491c4a54-ae81-43a7-b197-413cbed9760e"
      },
      "execution_count": 178,
      "outputs": [
        {
          "output_type": "stream",
          "name": "stdout",
          "text": [
            "[[ 62888     22      7]\n",
            " [434046     65     12]\n",
            " [174785     15      5]\n",
            " [495322     55     14]\n",
            " [101128     50      8]\n",
            " [190553     20      9]\n",
            " [388927     65     10]\n",
            " [348117      3      3]\n",
            " [128539     30      8]\n",
            " [441475     25      5]]\n"
          ]
        }
      ]
    },
    {
      "cell_type": "code",
      "source": [
        "#11 Выведите процент рецептов, кол-во ингредиентов в которых меньше среднего."
      ],
      "metadata": {
        "id": "4TZW1t8MHrRe"
      },
      "execution_count": null,
      "outputs": []
    },
    {
      "cell_type": "code",
      "source": [
        "#12 Назовем \"простым\" такой рецепт, длительность выполнения которого не больше 20 \n",
        "# минут и кол-во ингредиентов в котором не больше 5. Создайте версию датасета \n",
        "#с дополнительным столбцом, значениямикоторого являются 1, если рецепт простой, \n",
        "#и 0 в противном случае."
      ],
      "metadata": {
        "id": "YnzFMdYLH1Be"
      },
      "execution_count": null,
      "outputs": []
    },
    {
      "cell_type": "code",
      "source": [
        "#13 Выведите процент \"простых\" рецептов в датасете"
      ],
      "metadata": {
        "id": "bEYPyGH6ICve"
      },
      "execution_count": null,
      "outputs": []
    },
    {
      "cell_type": "code",
      "source": [
        "#14 "
      ],
      "metadata": {
        "id": "P9mS83p8IHSf"
      },
      "execution_count": null,
      "outputs": []
    }
  ]
}