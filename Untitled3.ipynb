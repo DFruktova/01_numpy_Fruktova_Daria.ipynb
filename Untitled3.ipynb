{
  "nbformat": 4,
  "nbformat_minor": 0,
  "metadata": {
    "colab": {
      "provenance": [],
      "authorship_tag": "ABX9TyMAQDQiOEIfmvkzSRRtYqHx",
      "include_colab_link": true
    },
    "kernelspec": {
      "name": "python3",
      "display_name": "Python 3"
    },
    "language_info": {
      "name": "python"
    }
  },
  "cells": [
    {
      "cell_type": "markdown",
      "metadata": {
        "id": "view-in-github",
        "colab_type": "text"
      },
      "source": [
        "<a href=\"https://colab.research.google.com/github/DFruktova/01_numpy_Fruktova_Daria.ipynb/blob/main/Untitled3.ipynb\" target=\"_parent\"><img src=\"https://colab.research.google.com/assets/colab-badge.svg\" alt=\"Open In Colab\"/></a>"
      ]
    },
    {
      "cell_type": "markdown",
      "source": [
        "# Лабораторная работа №1"
      ],
      "metadata": {
        "id": "r7oUIuxV2sYi"
      }
    },
    {
      "cell_type": "code",
      "execution_count": 99,
      "metadata": {
        "colab": {
          "base_uri": "https://localhost:8080/"
        },
        "id": "hNUCc3kE1fl-",
        "outputId": "7e9e0b43-abee-41fd-c492-0a5bb09a39c3"
      },
      "outputs": [
        {
          "output_type": "stream",
          "name": "stdout",
          "text": [
            "[[127244     60     16]\n",
            " [ 23891     25      7]\n",
            " [ 94746     10      6]\n",
            " [ 67660      5      6]\n",
            " [157911     60     14]]\n"
          ]
        }
      ],
      "source": [
        "#1\n",
        "import numpy as np\n",
        "import csv\n",
        "\n",
        "arr = np.loadtxt(\"minutes_n_ingredients.csv\", delimiter=\",\", skiprows=1, dtype=np.int32)\n",
        "print(arr[:5])"
      ]
    },
    {
      "cell_type": "code",
      "source": [
        "#2 Вычислите среднее значение, минимум, максимум и медиану по каждому из\n",
        "# столбцов, кроме первого. \n",
        "print( \"Средние значения:\", np.mean(arr[:,1]), \",\", np.mean(arr[:,2]))\n",
        "print( \"Максимальные значения:\", np.max(arr[:,1]), \",\", np.max(arr[:,2]))\n",
        "print( \"Минимальные значения:\", np.min(arr[:,1]), \",\", np.min(arr[:,2]))\n",
        "print( \"Медианные значения:\", np.median(arr[:,1]), \",\", np.median(arr[:,2]))"
      ],
      "metadata": {
        "colab": {
          "base_uri": "https://localhost:8080/"
        },
        "id": "6O8WIYkJCKjt",
        "outputId": "5af11724-afbc-4e3d-d91e-fe86edb560d1"
      },
      "execution_count": 74,
      "outputs": [
        {
          "output_type": "stream",
          "name": "stdout",
          "text": [
            "Средние значения: 39.10684 , 9.05528\n",
            "Максимальные значения: 65 , 39\n",
            "Минимальные значения: 0 , 1\n",
            "Медианные значения: 40.0 , 9.0\n"
          ]
        }
      ]
    },
    {
      "cell_type": "code",
      "source": [
        "#3 Ограничьте сверху значения продолжительности выполнения рецепта\n",
        "# значением квантиля q0.75\n",
        "arr[:,1] = np.clip(arr[:,1], a_min=None, a_max=np.quantile(arr[:,1], .75))\n",
        "print(arr)"
      ],
      "metadata": {
        "colab": {
          "base_uri": "https://localhost:8080/"
        },
        "id": "DeVBVEZCOs14",
        "outputId": "8fa48181-b1c4-471a-a838-8bd8b73cf22c"
      },
      "execution_count": 101,
      "outputs": [
        {
          "output_type": "stream",
          "name": "stdout",
          "text": [
            "[[127244     60     16]\n",
            " [ 23891     25      7]\n",
            " [ 94746     10      6]\n",
            " ...\n",
            " [498432     65     15]\n",
            " [370915      5      4]\n",
            " [ 81993     65     14]]\n"
          ]
        }
      ]
    },
    {
      "cell_type": "code",
      "source": [
        "#4 Посчитайте, для скольких рецептов указана продолжительность, равная нулю. \n",
        "#Замените для таких строк значение в данном столбце на 1.\n",
        "count = \n",
        "print(\"Рецептов с продолжительностью=0:\", )"
      ],
      "metadata": {
        "id": "MY0gtXsMRTQ5"
      },
      "execution_count": null,
      "outputs": []
    }
  ]
}